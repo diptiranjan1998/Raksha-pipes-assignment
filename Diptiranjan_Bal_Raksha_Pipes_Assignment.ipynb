{
  "nbformat": 4,
  "nbformat_minor": 0,
  "metadata": {
    "colab": {
      "provenance": [],
      "mount_file_id": "1rMavk9mc_sv454H4lbTELPhjMJ9y66sI",
      "authorship_tag": "ABX9TyOGxpABbpB9+oXdK+da9ICD",
      "include_colab_link": true
    },
    "kernelspec": {
      "name": "python3",
      "display_name": "Python 3"
    },
    "language_info": {
      "name": "python"
    }
  },
  "cells": [
    {
      "cell_type": "markdown",
      "metadata": {
        "id": "view-in-github",
        "colab_type": "text"
      },
      "source": [
        "<a href=\"https://colab.research.google.com/github/diptiranjan1998/Raksha-pipes-assignment/blob/main/Diptiranjan_Bal_Raksha_Pipes_Assignment.ipynb\" target=\"_parent\"><img src=\"https://colab.research.google.com/assets/colab-badge.svg\" alt=\"Open In Colab\"/></a>"
      ]
    },
    {
      "cell_type": "code",
      "execution_count": null,
      "metadata": {
        "colab": {
          "base_uri": "https://localhost:8080/"
        },
        "id": "rGV6yQcis-xU",
        "outputId": "6caf5074-e656-405e-b139-05f826a6371d"
      },
      "outputs": [
        {
          "output_type": "stream",
          "name": "stdout",
          "text": [
            "Collecting faker\n",
            "  Downloading Faker-25.1.0-py3-none-any.whl (1.8 MB)\n",
            "\u001b[2K     \u001b[90m━━━━━━━━━━━━━━━━━━━━━━━━━━━━━━━━━━━━━━━━\u001b[0m \u001b[32m1.8/1.8 MB\u001b[0m \u001b[31m11.9 MB/s\u001b[0m eta \u001b[36m0:00:00\u001b[0m\n",
            "\u001b[?25hRequirement already satisfied: python-dateutil>=2.4 in /usr/local/lib/python3.10/dist-packages (from faker) (2.8.2)\n",
            "Requirement already satisfied: six>=1.5 in /usr/local/lib/python3.10/dist-packages (from python-dateutil>=2.4->faker) (1.16.0)\n",
            "Installing collected packages: faker\n",
            "Successfully installed faker-25.1.0\n"
          ]
        }
      ],
      "source": [
        "# Importing required libraries\n",
        "import numpy as np\n",
        "import pandas as pd\n",
        "!pip install faker\n",
        "from faker import Faker\n",
        "import random\n"
      ]
    },
    {
      "cell_type": "code",
      "source": [
        "from google.colab import drive\n",
        "drive.mount('/content/drive')"
      ],
      "metadata": {
        "id": "f9XeWPDaFZmJ"
      },
      "execution_count": null,
      "outputs": []
    },
    {
      "cell_type": "markdown",
      "source": [
        "### **1.Creating Customer Table**"
      ],
      "metadata": {
        "id": "TqH0tIcYCy_9"
      }
    },
    {
      "cell_type": "code",
      "source": [
        "# Creating a function to replace ',' and '\\'\n",
        "def replace_comma(strings):\n",
        "  output= strings.replace(',','-')\n",
        "  output= output.replace(\"\\n\", \"-\")\n",
        "  return output"
      ],
      "metadata": {
        "id": "OLyBHQEvxTmG"
      },
      "execution_count": null,
      "outputs": []
    },
    {
      "cell_type": "code",
      "source": [
        "# Create an instance of the Faker class\n",
        "fake = Faker()\n",
        "Faker.seed(42)\n",
        "\n",
        "# Generate fake data for 500 records\n",
        "data = []\n",
        "for _ in range(500):\n",
        "    data.append({\n",
        "        'customer_id':_,\n",
        "        'customer_name': fake.name(),\n",
        "        'customer_address': fake.address(),\n",
        "        'customer_phone_number': fake.phone_number(),\n",
        "        'birthdate': fake.date_between(start_date=pd.to_datetime('1990-01-01'), end_date=pd.to_datetime('2000-01-01'))\n",
        "    })\n",
        "\n",
        "# Create a DataFrame from the generated data\n",
        "customer_info = pd.DataFrame(data)\n",
        "\n",
        "# Creating fake relavant email\n",
        "random.seed(42)\n",
        "customer_info['customer_email']= customer_info['customer_name'].apply(lambda x:((''.join(x.split(' ')).lower())+str(random.choices(range(10,99),k=1)[0])+'@gmail.com'))\n",
        "\n",
        "# Rearranging columns\n",
        "customer_info = customer_info[['customer_id', 'customer_name', 'customer_address', 'customer_email', 'customer_phone_number', 'birthdate']]\n",
        "\n",
        "# Replace ',' and '\\'\n",
        "customer_info['customer_address'] = customer_info['customer_address'].apply(replace_comma)\n",
        "\n",
        "# Print the first few rows of the DataFrame\n",
        "customer_info.head()"
      ],
      "metadata": {
        "id": "afJXbB7etabS"
      },
      "execution_count": null,
      "outputs": []
    },
    {
      "cell_type": "markdown",
      "source": [
        "### **2.Creating Products Table**"
      ],
      "metadata": {
        "id": "nA-URELZC71L"
      }
    },
    {
      "cell_type": "code",
      "source": [
        "# Getting product names from company site\n",
        "import requests\n",
        "from bs4 import BeautifulSoup\n",
        "\n",
        "# URL of the web page you want to scrape\n",
        "url = 'https://www.rakshapipes.com/all-products.html'\n",
        "\n",
        "# Send a GET request to the URL\n",
        "response = requests.get(url)\n",
        "\n",
        "# Parse the HTML content\n",
        "soup = BeautifulSoup(response.text, 'html.parser')\n",
        "\n",
        "# Extract data from the HTML\n",
        "# For example, let's extract all the links (anchor tags) from the page\n",
        "links = soup.find_all('a')\n",
        "products= []\n",
        "# Print the links\n",
        "for link in links:\n",
        "    # print(link.get('href'))\n",
        "    if link.get('href')[:-5] not in products:\n",
        "      products.append(link.get('href')[:-5])\n",
        "products= products[1:]\n",
        "products"
      ],
      "metadata": {
        "collapsed": true,
        "id": "fJ0OPpUGwC1n"
      },
      "execution_count": null,
      "outputs": []
    },
    {
      "cell_type": "code",
      "source": [
        "# Creating a function to get product types from product name\n",
        "def extract_product_type(inp):\n",
        "  inp_list= inp.split('-')\n",
        "  if len(inp_list)==1:\n",
        "    return inp_list[0]\n",
        "  elif inp_list[0] != 'raksha':\n",
        "    return inp_list[0]\n",
        "  else:\n",
        "    return inp_list[1]"
      ],
      "metadata": {
        "id": "3v7gr2RU_wUc"
      },
      "execution_count": null,
      "outputs": []
    },
    {
      "cell_type": "code",
      "source": [
        "# Creating dataframe for products\n",
        "data = []\n",
        "random.seed(42)\n",
        "random_product_names = random.choices(products, k=len(products))\n",
        "\n",
        "for _ in range(len(products)):\n",
        "    data.append({\n",
        "        'product_id':_,\n",
        "    })\n",
        "\n",
        "# Create a DataFrame from the generated data\n",
        "product_info = pd.DataFrame(data)\n",
        "product_info['product_name']= random_product_names\n",
        "product_info['product_type']= product_info['product_name'].apply(extract_product_type)\n",
        "\n",
        "# Print the first few rows of the DataFrame\n",
        "product_info.head()"
      ],
      "metadata": {
        "id": "lWBcLWr46MzA"
      },
      "execution_count": null,
      "outputs": []
    },
    {
      "cell_type": "markdown",
      "source": [
        "### **3.Creating Order *info* Table**"
      ],
      "metadata": {
        "id": "sG-PTBF6Dg6E"
      }
    },
    {
      "cell_type": "code",
      "source": [
        "# Taking all the customer ids\n",
        "customer_ids= customer_info['customer_id'].values.tolist()"
      ],
      "metadata": {
        "id": "_A0sHPFXA-8i"
      },
      "execution_count": null,
      "outputs": []
    },
    {
      "cell_type": "code",
      "source": [
        "# Choosing random customer ids\n",
        "random.seed(42)\n",
        "random_customer_ids = [random.choice(customer_ids) for _ in range(200)]\n",
        "\n",
        "# Creating a fake date for oprder_info dataframe\n",
        "data = []\n",
        "for _ in range(200):\n",
        "  data.append({\n",
        "      'order_id':_,\n",
        "      'order_date':fake.date_between(start_date=pd.to_datetime('2024-01-01'), end_date=pd.to_datetime('2024-04-30'))})\n",
        "\n",
        "# Creating the dataframe from fake data\n",
        "order_info = pd.DataFrame(data)\n",
        "\n",
        "# Adding random customer id\n",
        "order_info['customer_id']= random_customer_ids\n",
        "\n",
        "# Rearranging the tanble\n",
        "order_info= order_info[['order_id','customer_id','order_date']]\n",
        "\n",
        "# First look\n",
        "order_info.head()"
      ],
      "metadata": {
        "id": "1WR0Wbuk7vm7"
      },
      "execution_count": null,
      "outputs": []
    },
    {
      "cell_type": "markdown",
      "source": [
        "### **4.Creating Order *details* Table**"
      ],
      "metadata": {
        "id": "SL7d6a4yAtR0"
      }
    },
    {
      "cell_type": "code",
      "source": [
        "# Taking all the order ids\n",
        "order_ids = order_info['order_id'].values.tolist()"
      ],
      "metadata": {
        "id": "wOe57-1D-qFZ"
      },
      "execution_count": null,
      "outputs": []
    },
    {
      "cell_type": "code",
      "source": [
        "# Taking all the product ids\n",
        "product_ids = product_info['product_id'].values.tolist()"
      ],
      "metadata": {
        "id": "cMvsP7l3BNLa"
      },
      "execution_count": null,
      "outputs": []
    },
    {
      "cell_type": "code",
      "source": [
        "# Choosing random order ids\n",
        "random.seed(42)\n",
        "random_order_ids = random.choices(order_ids, k= 200)\n",
        "\n",
        "# Choosing random product ids\n",
        "random.seed(42)\n",
        "random_product_ids = [random.choice(product_ids) for _ in range(200)]\n",
        "\n",
        "# Creating fake quantity\n",
        "fake_quantity = range(20,50)\n",
        "random.seed(42)\n",
        "random_fake_quantity= [random.choice(fake_quantity) for _ in range(200)]\n",
        "\n",
        "# Creating fake price\n",
        "fake_price = range(20,50)\n",
        "random_fake_price = [random.choice(fake_price) for _ in range(200)]\n",
        "\n",
        "# Creating a fake date for oprder_info dataframe\n",
        "data = []\n",
        "for _ in range(200):\n",
        "  data.append({\n",
        "      'order_details_id':_})\n",
        "\n",
        "# Creating a dataframe out of fake data\n",
        "order_details= pd.DataFrame(data)\n",
        "\n",
        "# Adding random order id\n",
        "order_details['order_id'] = random_order_ids\n",
        "\n",
        "# Adding random price. Here the price is in U.S Dollar\n",
        "order_details['price_per_unit_in_USD'] = random_fake_price\n",
        "\n",
        "# Adding random product id\n",
        "order_details['product_id'] = random_product_ids\n",
        "\n",
        "# Adding random quantity\n",
        "order_details['quantity'] = random_fake_quantity\n",
        "\n",
        "# Rearranging the tanble\n",
        "order_details= order_details[['order_details_id', 'order_id', 'product_id', 'quantity', 'price_per_unit_in_USD']]\n",
        "\n",
        "# First look\n",
        "order_details.head()"
      ],
      "metadata": {
        "id": "mDDgmAcgBl3y"
      },
      "execution_count": null,
      "outputs": []
    },
    {
      "cell_type": "markdown",
      "source": [
        "### **5.Creating payment Table**\n"
      ],
      "metadata": {
        "id": "juLAtnQMjhu-"
      }
    },
    {
      "cell_type": "code",
      "source": [
        "# Taking order ids for payments\n",
        "order_details_ids = order_details['order_details_id'].values.tolist()\n",
        "\n",
        "# Taking only 150 orders, so that it looks realistic\n",
        "random.seed(42)\n",
        "payments_order_details_ids = order_details_ids[:150]\n",
        "random.shuffle(payments_order_details_ids)\n",
        "\n",
        "print(payments_order_details_ids)"
      ],
      "metadata": {
        "id": "gKxkL3B9fuMM"
      },
      "execution_count": null,
      "outputs": []
    },
    {
      "cell_type": "code",
      "source": [
        "# Creating fake data for payments\n",
        "data= []\n",
        "for _ in range(150):\n",
        "  data.append({'payment_id':_})\n",
        "\n",
        "# Creating fake payments data frame\n",
        "payments_info =  pd.DataFrame(data)\n",
        "\n",
        "# Adding order details id\n",
        "payments_info['order_details_id'] = payments_order_details_ids\n",
        "\n",
        "# First look\n",
        "payments_info.head()"
      ],
      "metadata": {
        "id": "8ebtLoWxq0JA"
      },
      "execution_count": null,
      "outputs": []
    },
    {
      "cell_type": "code",
      "source": [
        "# Building relation between payments_info, order_details and order_info to get all payment details\n",
        "payment_details = pd.merge(payments_info, order_details, how= 'inner', on= 'order_details_id')\n",
        "\n",
        "payment_details = pd.merge(payment_details, order_info, how= 'inner', on= 'order_id')\n",
        "\n",
        "# Getting total price payed\n",
        "payment_details['total_price_payed_in_USD'] = payment_details['quantity'] * payment_details['price_per_unit_in_USD']\n",
        "\n",
        "# First look\n",
        "payment_details.head()"
      ],
      "metadata": {
        "id": "5Xeh8RxurkrP"
      },
      "execution_count": null,
      "outputs": []
    },
    {
      "cell_type": "markdown",
      "source": [
        "### **6.Creating inventory Table**\n"
      ],
      "metadata": {
        "id": "yMXD0SinEYLn"
      }
    },
    {
      "cell_type": "code",
      "source": [
        "# Creating fake availability\n",
        "fake_availablity = list(range(50,500))\n",
        "random.seed(42)\n",
        "random_fake_availablity = [random.choice(fake_availablity) for _ in range(len(products))]"
      ],
      "metadata": {
        "id": "KFbPHIX3KrxK"
      },
      "execution_count": null,
      "outputs": []
    },
    {
      "cell_type": "code",
      "source": [
        "# Creating a fake inventory table\n",
        "inventory_info = pd.DataFrame()\n",
        "\n",
        "# Adding product_id, product_name\n",
        "inventory_info = product_info[['product_id','product_name']]\n",
        "\n",
        "# Adding fake availability\n",
        "inventory_info['availablity'] = random_fake_availablity\n",
        "\n",
        "# First look\n",
        "inventory_info.head()"
      ],
      "metadata": {
        "id": "sVYt4Vd7etXR"
      },
      "execution_count": null,
      "outputs": []
    },
    {
      "cell_type": "markdown",
      "source": [
        "### **7.Creating suppliers Table**\n"
      ],
      "metadata": {
        "id": "jcwctIofuQNW"
      }
    },
    {
      "cell_type": "code",
      "source": [
        "# Creating fake availability\n",
        "product_types= product_info['product_type'].values.tolist()\n",
        "random.seed(42)\n",
        "random_product_types = [random.choice(product_types) for _ in range(100)]\n"
      ],
      "metadata": {
        "id": "D_mH-8ajF4RF"
      },
      "execution_count": null,
      "outputs": []
    },
    {
      "cell_type": "code",
      "source": [
        "# Create an instance of the Faker class\n",
        "fake = Faker()\n",
        "Faker.seed(42)\n",
        "\n",
        "# Generate fake data for 100 records\n",
        "data = []\n",
        "for _ in range(100):\n",
        "    data.append({\n",
        "        'supplier_id':_,\n",
        "        'supplier_name': fake.company(),\n",
        "        'address': fake.address(),\n",
        "        'email': fake.email(),\n",
        "        'supplier_phone_number': fake.phone_number(),\n",
        "    })\n",
        "\n",
        "# Create a DataFrame from the generated data\n",
        "supplier_info = pd.DataFrame(data)\n",
        "\n",
        "# Adding product type for sopplier\n",
        "supplier_info['product_type'] = random_product_types\n",
        "\n",
        "# Print the first few rows of the DataFrame\n",
        "supplier_info.head()"
      ],
      "metadata": {
        "id": "RRUklOD4uGG6"
      },
      "execution_count": null,
      "outputs": []
    },
    {
      "cell_type": "markdown",
      "source": [
        "### **8.Creating employee Table**\n"
      ],
      "metadata": {
        "id": "tsyM9oykzKlx"
      }
    },
    {
      "cell_type": "code",
      "source": [
        "# Taking random post/position of the employee in the company\n",
        "posts= ['Data scientist', 'Data analyst', 'Business analyst', 'Junior manager', 'Project head', 'Associate data scientist', 'Associate data analyst', 'MIS ececutive', 'Data entry', 'Business manager', 'Quality control', 'Production executive', 'Senior engineer', 'Operator']\n",
        "\n",
        "# Creating random positions\n",
        "random.seed(42)\n",
        "fake_position = random.choices(posts, k= 100)"
      ],
      "metadata": {
        "id": "dRLJ89XnPD4L"
      },
      "execution_count": null,
      "outputs": []
    },
    {
      "cell_type": "code",
      "source": [
        "salary_details = {'Data scientist':50000, 'Data analyst':40000, 'Business analyst':40000, 'Junior manager':45000, 'Project head':60000, 'Associate data scientist':40000, 'Associate data analyst':30000, 'MIS ececutive':25000, 'Data entry':20000, 'Business manager':45000, 'Quality control':30000, 'Production executive':25000, 'Senior engineer':28000, 'Operator':18000}"
      ],
      "metadata": {
        "id": "fXDX-DM8IUo1"
      },
      "execution_count": null,
      "outputs": []
    },
    {
      "cell_type": "code",
      "source": [
        "# Create an instance of the Faker class\n",
        "fake = Faker()\n",
        "Faker.seed(42)\n",
        "\n",
        "# Generate fake data for 100 records\n",
        "data = []\n",
        "for _ in range(100):\n",
        "    data.append({\n",
        "        'employee_id':_,\n",
        "        'employee_name': fake.name(),\n",
        "        'employee_address': fake.address(),\n",
        "        'employee_phone_number': fake.phone_number(),\n",
        "    })\n",
        "\n",
        "# Creating fake data for employee\n",
        "employee_info= pd.DataFrame(data)\n",
        "\n",
        "employee_info['employee_position'] = fake_position\n",
        "\n",
        "# Creating fake relavant email\n",
        "random.seed(42)\n",
        "employee_info['employee_email']= employee_info['employee_name'].apply(lambda x:((''.join(x.split(' ')).lower())+str(random.choices(range(10,99),k=1)[0])+'@gmail.com'))\n",
        "\n",
        "# Adding salary column\n",
        "employee_info['employee_salary'] = employee_info['employee_position'].apply(lambda x:salary_details[x])\n",
        "\n",
        "# Replace ',' and '\\'\n",
        "employee_info['employee_address'] = employee_info['employee_address'].apply(replace_comma)\n",
        "\n",
        "\n",
        "# Rearranging the columns\n",
        "employee_info = employee_info[['employee_id', 'employee_name', 'employee_position', 'employee_address', 'employee_email', 'employee_phone_number', 'employee_salary']]\n",
        "\n",
        "# First look\n",
        "employee_info"
      ],
      "metadata": {
        "id": "N0CAlznjzAdO"
      },
      "execution_count": null,
      "outputs": []
    },
    {
      "cell_type": "markdown",
      "source": [
        "### I have successfully created 8 fake tables for the company. Now I will save those 8 tables to drive by csv format."
      ],
      "metadata": {
        "id": "rzJHfrjsTwab"
      }
    },
    {
      "cell_type": "code",
      "source": [
        "tables= ['customer_info', 'product_info', 'order_info', 'order_details', 'payment_details', 'inventory_info', 'supplier_info', 'employee_info']"
      ],
      "metadata": {
        "id": "y9P1stZCUPXr"
      },
      "execution_count": null,
      "outputs": []
    },
    {
      "cell_type": "code",
      "source": [
        "for i in tables:\n",
        "  eval(i).to_csv(f\"/content/drive/MyDrive/Raksha pipes/csv/{i}.csv\")"
      ],
      "metadata": {
        "id": "_x5KkKUvU7H1"
      },
      "execution_count": null,
      "outputs": []
    },
    {
      "cell_type": "code",
      "source": [
        "# for i in tables:\n",
        "#   eval(i).to_excel(f\"/content/drive/MyDrive/Raksha pipes/excel/{i}.xlsx\")"
      ],
      "metadata": {
        "id": "OeJT159XFuf4"
      },
      "execution_count": null,
      "outputs": []
    }
  ]
}